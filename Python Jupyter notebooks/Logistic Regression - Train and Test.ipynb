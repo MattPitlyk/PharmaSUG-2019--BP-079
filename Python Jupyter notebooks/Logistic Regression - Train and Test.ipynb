{
 "cells": [
  {
   "cell_type": "markdown",
   "metadata": {},
   "source": [
    "## Setup"
   ]
  },
  {
   "cell_type": "code",
   "execution_count": 1,
   "metadata": {
    "ExecuteTime": {
     "end_time": "2019-04-23T03:00:41.536060Z",
     "start_time": "2019-04-23T03:00:38.464725Z"
    }
   },
   "outputs": [],
   "source": [
    "import pandas as pd\n",
    "import numpy as np\n",
    "\n",
    "import scipy.sparse\n",
    "\n",
    "from sklearn.metrics import (confusion_matrix, precision_recall_curve, \n",
    "                            precision_score, recall_score, accuracy_score,\n",
    "                            roc_curve, roc_auc_score)\n",
    "from sklearn.feature_extraction.text import CountVectorizer, TfidfVectorizer\n",
    "from sklearn.linear_model import LogisticRegressionCV\n",
    "\n",
    "from sklearn.model_selection import cross_val_predict, cross_val_score, cross_validate\n",
    "\n",
    "\n",
    "%matplotlib inline\n",
    "from matplotlib import pyplot as plt\n",
    "\n",
    "import jellyfish"
   ]
  },
  {
   "cell_type": "code",
   "execution_count": 2,
   "metadata": {
    "ExecuteTime": {
     "end_time": "2019-04-23T03:00:41.551811Z",
     "start_time": "2019-04-23T03:00:41.539760Z"
    }
   },
   "outputs": [],
   "source": [
    "def plot_precision_recall_vs_threshold(precision, recalls, thresholds):\n",
    "    plt.plot(thresholds, precisions[:-1], \"b--\", label=\"Precision\")\n",
    "    plt.plot(thresholds, recalls[:-1], \"g--\", label=\"Recall\")\n",
    "    plt.xlabel(\"Threshold\")\n",
    "    plt.legend(loc=\"center right\")\n",
    "    plt.ylim([0, 1])"
   ]
  },
  {
   "cell_type": "code",
   "execution_count": 3,
   "metadata": {
    "ExecuteTime": {
     "end_time": "2019-04-23T03:00:41.640948Z",
     "start_time": "2019-04-23T03:00:41.562471Z"
    }
   },
   "outputs": [],
   "source": [
    "def print_thresholds_stats(y_true, y_pred, min_threshold, max_threshold, num=20):\n",
    "    \"\"\"Print out accuracy, precision, recall, and confusion counts.\"\"\"\n",
    "    print('cutoff\\tacc\\tprec\\trecall\\tpos_count\\tFP\\tFN\\tTP\\tTN')\n",
    "    for cutoff in np.linspace(min_threshold, max_threshold, num=num):\n",
    "        y_train_pred = (y_pred > cutoff)\n",
    "        print('{:.3f}'.format(cutoff), end='\\t')\n",
    "        print('{:.3f}'.format(accuracy_score(y_true, y_train_pred)), end='\\t')\n",
    "        print('{:.3f}'.format(precision_score(y_true, y_train_pred)), end='\\t')\n",
    "        print('{:.3f}'.format(recall_score(y_true, y_train_pred)), end='\\t')\n",
    "        tn, fp, fn, tp = confusion_matrix(y_true, y_train_pred).ravel()\n",
    "        print(sum(y_train_pred), end='\\t\\t')\n",
    "        print(fp, end='\\t')\n",
    "        print(fn, end='\\t')\n",
    "        print(tp, end='\\t')\n",
    "        print(tn)"
   ]
  },
  {
   "cell_type": "code",
   "execution_count": 4,
   "metadata": {
    "ExecuteTime": {
     "end_time": "2019-04-23T03:00:41.663578Z",
     "start_time": "2019-04-23T03:00:41.649193Z"
    }
   },
   "outputs": [],
   "source": [
    "def plot_roc_curve(fpr, tpr, label=None):\n",
    "    plt.plot(fpr, tpr, linewidth=2, label=None)\n",
    "    plt.plot([0, 1], [0, 1], 'k--')\n",
    "    plt.axis([0, 1, 0, 1])\n",
    "    plt.xlabel('False Positive Rate')\n",
    "    plt.ylabel('True Positive Rate')"
   ]
  },
  {
   "cell_type": "markdown",
   "metadata": {},
   "source": [
    "## Training Dataset"
   ]
  },
  {
   "cell_type": "markdown",
   "metadata": {},
   "source": [
    "### Load training data"
   ]
  },
  {
   "cell_type": "code",
   "execution_count": 5,
   "metadata": {
    "ExecuteTime": {
     "end_time": "2019-04-23T03:00:42.018077Z",
     "start_time": "2019-04-23T03:00:41.668109Z"
    }
   },
   "outputs": [],
   "source": [
    "df_full = pd.read_csv('../data/real_data/copd_train.csv', sep='^', header=None, names=['Text', 'COPD'])\n",
    "\n",
    "# Lowercase data\n",
    "df_full['Text2'] = df_full.Text.str.lower()\n",
    "\n",
    "# Drop duplicates\n",
    "df__no_dupes = df_full.drop_duplicates().copy().reset_index()"
   ]
  },
  {
   "cell_type": "markdown",
   "metadata": {},
   "source": [
    "### TFIDF"
   ]
  },
  {
   "cell_type": "code",
   "execution_count": 6,
   "metadata": {
    "ExecuteTime": {
     "end_time": "2019-04-23T03:00:42.484722Z",
     "start_time": "2019-04-23T03:00:42.022115Z"
    }
   },
   "outputs": [],
   "source": [
    "# Create TF-IDF object that split data into sublists from a single word to four words (4-gram)\n",
    "tfidf = TfidfVectorizer(ngram_range=(1,4))\n",
    "\n",
    "mat_0 = tfidf.fit_transform(df__no_dupes.Text2)\n",
    "\n",
    "voc_reverse = {v:k for k,v in tfidf.vocabulary_.items()}"
   ]
  },
  {
   "cell_type": "markdown",
   "metadata": {},
   "source": [
    "### Distance features"
   ]
  },
  {
   "cell_type": "markdown",
   "metadata": {},
   "source": [
    "Engineer features that capture the edit distance from the four proxy terms."
   ]
  },
  {
   "cell_type": "code",
   "execution_count": 7,
   "metadata": {
    "ExecuteTime": {
     "end_time": "2019-04-23T03:00:42.764293Z",
     "start_time": "2019-04-23T03:00:42.488953Z"
    },
    "scrolled": true
   },
   "outputs": [],
   "source": [
    "df__no_dupes['jaro_copd'] = df__no_dupes.Text2.map(lambda s: jellyfish.jaro_winkler('copd', s))\n",
    "\n",
    "df__no_dupes['jaro_copd_full'] = df__no_dupes.Text2.map(lambda s: jellyfish.jaro_winkler('chronic obstructive pulmonary disease', s))\n",
    "\n",
    "df__no_dupes['dl_copd'] = df__no_dupes.Text2.map(lambda s: 1 - (jellyfish.damerau_levenshtein_distance('copd', s) / max(len('copd'), len(s))))\n",
    "\n",
    "df__no_dupes['dl_copd_full'] = df__no_dupes.Text2.map(lambda s: 1 - (jellyfish.damerau_levenshtein_distance('chronic obstructive pulmonary disease', s) / max(len('chronic obstructive pulmonary disease'), len(s))))"
   ]
  },
  {
   "cell_type": "markdown",
   "metadata": {},
   "source": [
    "Combine the new distance features with the TF-IDF matrix created earlier."
   ]
  },
  {
   "cell_type": "code",
   "execution_count": 12,
   "metadata": {
    "ExecuteTime": {
     "end_time": "2019-04-23T03:01:20.796100Z",
     "start_time": "2019-04-23T03:01:20.773820Z"
    }
   },
   "outputs": [],
   "source": [
    "distance_cols = ['jaro_copd', 'jaro_copd_full', 'dl_copd', 'dl_copd_full']\n",
    "\n",
    "mat = scipy.sparse.hstack([mat_0, df__no_dupes[distance_cols].values])"
   ]
  },
  {
   "cell_type": "markdown",
   "metadata": {},
   "source": [
    "### Logistic Regression"
   ]
  },
  {
   "cell_type": "markdown",
   "metadata": {},
   "source": [
    "#### Look at cross validated metrics"
   ]
  },
  {
   "cell_type": "code",
   "execution_count": 13,
   "metadata": {
    "ExecuteTime": {
     "end_time": "2019-04-23T03:01:45.607200Z",
     "start_time": "2019-04-23T03:01:22.046892Z"
    }
   },
   "outputs": [
    {
     "data": {
      "text/plain": [
       "{'fit_time': array([9.0096662 , 7.34407997, 7.11128092]),\n",
       " 'score_time': array([0.00874496, 0.00651884, 0.00566125]),\n",
       " 'test_accuracy': array([0.99587242, 0.99530869, 0.99455808]),\n",
       " 'test_precision': array([0.94444444, 0.97315436, 0.99280576]),\n",
       " 'test_recall': array([0.92168675, 0.87349398, 0.8313253 ]),\n",
       " 'train_accuracy': array([0.99990617, 1.        , 1.        ]),\n",
       " 'train_precision': array([1., 1., 1.]),\n",
       " 'train_recall': array([0.99698795, 1.        , 1.        ])}"
      ]
     },
     "execution_count": 13,
     "metadata": {},
     "output_type": "execute_result"
    }
   ],
   "source": [
    "lr = LogisticRegressionCV()\n",
    "\n",
    "r = cross_validate(lr, \n",
    "               X=mat, \n",
    "               y=df__no_dupes.COPD, \n",
    "               scoring=['accuracy', 'precision', 'recall'], \n",
    "               return_train_score=True)\n",
    "r"
   ]
  },
  {
   "cell_type": "code",
   "execution_count": 14,
   "metadata": {
    "ExecuteTime": {
     "end_time": "2019-04-23T03:01:45.627703Z",
     "start_time": "2019-04-23T03:01:45.611822Z"
    }
   },
   "outputs": [
    {
     "data": {
      "text/plain": [
       "test_accuracy     0.995246\n",
       "test_precision    0.970135\n",
       "test_recall       0.875502\n",
       "dtype: float64"
      ]
     },
     "execution_count": 14,
     "metadata": {},
     "output_type": "execute_result"
    }
   ],
   "source": [
    "pd.DataFrame(r)[['test_accuracy', 'test_precision', 'test_recall']].mean()"
   ]
  },
  {
   "cell_type": "markdown",
   "metadata": {},
   "source": [
    "#### Get cross validated predctions, decision scores, and predicted probabilites"
   ]
  },
  {
   "cell_type": "code",
   "execution_count": 15,
   "metadata": {
    "ExecuteTime": {
     "end_time": "2019-04-23T03:02:47.976747Z",
     "start_time": "2019-04-23T03:01:45.633227Z"
    }
   },
   "outputs": [],
   "source": [
    "labels = cross_val_predict(lr, mat, df__no_dupes.COPD)\n",
    "decision_scores = cross_val_predict(lr, mat, df__no_dupes.COPD, method='decision_function')\n",
    "proba = cross_val_predict(lr, mat, df__no_dupes.COPD, method='predict_proba')"
   ]
  },
  {
   "cell_type": "code",
   "execution_count": 16,
   "metadata": {
    "ExecuteTime": {
     "end_time": "2019-04-23T03:02:48.032361Z",
     "start_time": "2019-04-23T03:02:47.980036Z"
    },
    "scrolled": true
   },
   "outputs": [],
   "source": [
    "df__no_dupes['log_reg'] = labels\n",
    "df__no_dupes['decision_function'] = decision_scores\n",
    "df__no_dupes['predict_proba__1'] = proba[:,1]"
   ]
  },
  {
   "cell_type": "code",
   "execution_count": 43,
   "metadata": {
    "ExecuteTime": {
     "end_time": "2019-04-23T04:18:45.764049Z",
     "start_time": "2019-04-23T04:18:45.670139Z"
    }
   },
   "outputs": [
    {
     "name": "stdout",
     "output_type": "stream",
     "text": [
      "cutoff\tacc\tprec\trecall\tpos_count\tFP\tFN\tTP\tTN\n",
      "0.500\t0.995\t0.969\t0.876\t450\t\t14\t62\t436\t15476\n"
     ]
    }
   ],
   "source": [
    "y_true = df__no_dupes.COPD\n",
    "y_pred_classes = labels\n",
    "\n",
    "print('cutoff\\tacc\\tprec\\trecall\\tpos_count\\tFP\\tFN\\tTP\\tTN')\n",
    "print('{:.3f}'.format(.5), end='\\t')\n",
    "print('{:.3f}'.format(accuracy_score(y_true, y_pred_classes)), end='\\t')\n",
    "print('{:.3f}'.format(precision_score(y_true, y_pred_classes)), end='\\t')\n",
    "print('{:.3f}'.format(recall_score(y_true, y_pred_classes)), end='\\t')\n",
    "tn, fp, fn, tp = confusion_matrix(y_true, y_pred_classes).ravel()\n",
    "print(sum(y_pred_classes), end='\\t\\t')\n",
    "print(fp, end='\\t')\n",
    "print(fn, end='\\t')\n",
    "print(tp, end='\\t')\n",
    "print(tn)"
   ]
  },
  {
   "cell_type": "markdown",
   "metadata": {},
   "source": [
    "#### Precision Recall chart"
   ]
  },
  {
   "cell_type": "code",
   "execution_count": 17,
   "metadata": {
    "ExecuteTime": {
     "end_time": "2019-04-23T03:02:48.345855Z",
     "start_time": "2019-04-23T03:02:48.039630Z"
    }
   },
   "outputs": [
    {
     "data": {
      "image/png": "[encoded data removed]",
      "text/plain": [
       "<matplotlib.figure.Figure at 0x10c26c080>"
      ]
     },
     "metadata": {},
     "output_type": "display_data"
    }
   ],
   "source": [
    "precisions, recalls, thresholds = precision_recall_curve(y_true=df__no_dupes.COPD, \n",
    "                                                         probas_pred=df__no_dupes.predict_proba__1) # decision_function or predict_probas\n",
    "\n",
    "plot_precision_recall_vs_threshold(precisions, recalls, thresholds)"
   ]
  },
  {
   "cell_type": "markdown",
   "metadata": {},
   "source": [
    "View metrics for various threshold values"
   ]
  },
  {
   "cell_type": "code",
   "execution_count": 18,
   "metadata": {
    "ExecuteTime": {
     "end_time": "2019-04-23T03:02:49.763937Z",
     "start_time": "2019-04-23T03:02:48.350630Z"
    }
   },
   "outputs": [
    {
     "name": "stdout",
     "output_type": "stream",
     "text": [
      "cutoff\tacc\tprec\trecall\tpos_count\tFP\tFN\tTP\tTN\n",
      "0.000\t0.031\t0.031\t1.000\t15988\t\t15490\t0\t498\t0\n",
      "0.005\t0.995\t0.872\t0.970\t554\t\t71\t15\t483\t15419\n",
      "0.011\t0.996\t0.908\t0.956\t524\t\t48\t22\t476\t15442\n",
      "0.016\t0.996\t0.926\t0.950\t511\t\t38\t25\t473\t15452\n",
      "0.021\t0.997\t0.944\t0.948\t500\t\t28\t26\t472\t15462\n",
      "0.026\t0.997\t0.947\t0.942\t495\t\t26\t29\t469\t15464\n",
      "0.032\t0.997\t0.953\t0.942\t492\t\t23\t29\t469\t15467\n",
      "0.037\t0.997\t0.953\t0.942\t492\t\t23\t29\t469\t15467\n",
      "0.042\t0.997\t0.957\t0.938\t488\t\t21\t31\t467\t15469\n",
      "0.047\t0.997\t0.957\t0.932\t485\t\t21\t34\t464\t15469\n",
      "0.053\t0.997\t0.957\t0.932\t485\t\t21\t34\t464\t15469\n",
      "0.058\t0.997\t0.957\t0.932\t485\t\t21\t34\t464\t15469\n",
      "0.063\t0.997\t0.957\t0.932\t485\t\t21\t34\t464\t15469\n",
      "0.068\t0.997\t0.957\t0.932\t485\t\t21\t34\t464\t15469\n",
      "0.074\t0.997\t0.959\t0.932\t484\t\t20\t34\t464\t15470\n",
      "0.079\t0.997\t0.959\t0.932\t484\t\t20\t34\t464\t15470\n",
      "0.084\t0.997\t0.959\t0.932\t484\t\t20\t34\t464\t15470\n",
      "0.089\t0.997\t0.959\t0.932\t484\t\t20\t34\t464\t15470\n",
      "0.095\t0.997\t0.959\t0.932\t484\t\t20\t34\t464\t15470\n",
      "0.100\t0.997\t0.959\t0.930\t483\t\t20\t35\t463\t15470\n"
     ]
    }
   ],
   "source": [
    "print_thresholds_stats(df__no_dupes.COPD, df__no_dupes['predict_proba__1'], 0, .1)"
   ]
  },
  {
   "cell_type": "code",
   "execution_count": 19,
   "metadata": {
    "ExecuteTime": {
     "end_time": "2019-04-23T03:02:49.778028Z",
     "start_time": "2019-04-23T03:02:49.772996Z"
    }
   },
   "outputs": [],
   "source": [
    "SELECTED_THRESHOLD = .005"
   ]
  },
  {
   "cell_type": "markdown",
   "metadata": {},
   "source": [
    "#### ROC curve"
   ]
  },
  {
   "cell_type": "code",
   "execution_count": 20,
   "metadata": {
    "ExecuteTime": {
     "end_time": "2019-04-23T03:02:49.816609Z",
     "start_time": "2019-04-23T03:02:49.781706Z"
    }
   },
   "outputs": [],
   "source": [
    "fpr, tpr, thresholds = roc_curve(y_true=df__no_dupes.COPD, y_score=df__no_dupes.decision_function)"
   ]
  },
  {
   "cell_type": "code",
   "execution_count": 21,
   "metadata": {
    "ExecuteTime": {
     "end_time": "2019-04-23T03:02:50.064299Z",
     "start_time": "2019-04-23T03:02:49.841646Z"
    },
    "scrolled": true
   },
   "outputs": [
    {
     "data": {
      "image/png": "[encoded data removed]",
      "text/plain": [
       "<matplotlib.figure.Figure at 0x10c2688d0>"
      ]
     },
     "metadata": {},
     "output_type": "display_data"
    }
   ],
   "source": [
    "plot_roc_curve(fpr, tpr)\n",
    "plt.show()"
   ]
  },
  {
   "cell_type": "code",
   "execution_count": 22,
   "metadata": {
    "ExecuteTime": {
     "end_time": "2019-04-23T03:02:50.089378Z",
     "start_time": "2019-04-23T03:02:50.069071Z"
    }
   },
   "outputs": [
    {
     "data": {
      "text/plain": [
       "0.9911798906406777"
      ]
     },
     "execution_count": 22,
     "metadata": {},
     "output_type": "execute_result"
    }
   ],
   "source": [
    "roc_auc_score(y_true=df__no_dupes.COPD, y_score=df__no_dupes.decision_function)"
   ]
  },
  {
   "cell_type": "code",
   "execution_count": null,
   "metadata": {},
   "outputs": [],
   "source": []
  },
  {
   "cell_type": "markdown",
   "metadata": {},
   "source": [
    "#### Train final model on all training data"
   ]
  },
  {
   "cell_type": "markdown",
   "metadata": {},
   "source": [
    "This is the trained classifier that will be used on the test dataset."
   ]
  },
  {
   "cell_type": "code",
   "execution_count": 23,
   "metadata": {
    "ExecuteTime": {
     "end_time": "2019-04-23T03:03:22.984066Z",
     "start_time": "2019-04-23T03:03:22.980699Z"
    }
   },
   "outputs": [],
   "source": [
    "lr = LogisticRegressionCV()"
   ]
  },
  {
   "cell_type": "code",
   "execution_count": 24,
   "metadata": {
    "ExecuteTime": {
     "end_time": "2019-04-23T03:03:32.325960Z",
     "start_time": "2019-04-23T03:03:23.263994Z"
    }
   },
   "outputs": [
    {
     "data": {
      "text/plain": [
       "LogisticRegressionCV(Cs=10, class_weight=None, cv=None, dual=False,\n",
       "           fit_intercept=True, intercept_scaling=1.0, max_iter=100,\n",
       "           multi_class='ovr', n_jobs=1, penalty='l2', random_state=None,\n",
       "           refit=True, scoring=None, solver='lbfgs', tol=0.0001, verbose=0)"
      ]
     },
     "execution_count": 24,
     "metadata": {},
     "output_type": "execute_result"
    }
   ],
   "source": [
    "lr.fit(X=mat, y=df__no_dupes.COPD)"
   ]
  },
  {
   "cell_type": "code",
   "execution_count": null,
   "metadata": {},
   "outputs": [],
   "source": []
  },
  {
   "cell_type": "markdown",
   "metadata": {},
   "source": [
    "## Test Dataset"
   ]
  },
  {
   "cell_type": "code",
   "execution_count": 25,
   "metadata": {
    "ExecuteTime": {
     "end_time": "2019-04-23T03:03:32.463532Z",
     "start_time": "2019-04-23T03:03:32.330415Z"
    }
   },
   "outputs": [],
   "source": [
    "df_full_test = pd.read_csv('../data/real_data/copd_test.csv', sep='^', header=None, names=['Text', 'COPD'])\n",
    "\n",
    "# Lowercase data\n",
    "df_full_test['Text2'] = df_full_test.Text.str.lower()\n",
    "\n",
    "# Drop duplicates\n",
    "df__no_dupes_test = df_full_test.drop_duplicates().copy().reset_index()"
   ]
  },
  {
   "cell_type": "markdown",
   "metadata": {},
   "source": [
    "### TFIDF"
   ]
  },
  {
   "cell_type": "code",
   "execution_count": 26,
   "metadata": {
    "ExecuteTime": {
     "end_time": "2019-04-23T03:03:32.569473Z",
     "start_time": "2019-04-23T03:03:32.467294Z"
    }
   },
   "outputs": [],
   "source": [
    "# Use the same TF-IDF object on the test data that was trained on the training data\n",
    "mat_test_0 = tfidf.transform(df__no_dupes_test.Text2)"
   ]
  },
  {
   "cell_type": "markdown",
   "metadata": {},
   "source": [
    "### Distance features"
   ]
  },
  {
   "cell_type": "markdown",
   "metadata": {},
   "source": [
    "Engineer features that capture the edit distance from the four proxy terms."
   ]
  },
  {
   "cell_type": "code",
   "execution_count": 27,
   "metadata": {
    "ExecuteTime": {
     "end_time": "2019-04-23T03:03:32.699904Z",
     "start_time": "2019-04-23T03:03:32.576790Z"
    },
    "scrolled": true
   },
   "outputs": [],
   "source": [
    "df__no_dupes_test['jaro_copd'] = df__no_dupes_test.Text2.map(lambda s: jellyfish.jaro_winkler('copd', s))\n",
    "\n",
    "df__no_dupes_test['jaro_copd_full'] = df__no_dupes_test.Text2.map(lambda s: jellyfish.jaro_winkler('chronic obstructive pulmonary disease', s))\n",
    "\n",
    "df__no_dupes_test['dl_copd'] = df__no_dupes_test.Text2.map(lambda s: 1 - (jellyfish.damerau_levenshtein_distance('copd', s) / max(len('copd'), len(s))))\n",
    "\n",
    "df__no_dupes_test['dl_copd_full'] = df__no_dupes_test.Text2.map(lambda s: 1 - (jellyfish.damerau_levenshtein_distance('chronic obstructive pulmonary disease', s) / max(len('chronic obstructive pulmonary disease'), len(s))))"
   ]
  },
  {
   "cell_type": "markdown",
   "metadata": {},
   "source": [
    "Combine the new distance features with the TF-IDF matrix created earlier."
   ]
  },
  {
   "cell_type": "code",
   "execution_count": 28,
   "metadata": {
    "ExecuteTime": {
     "end_time": "2019-04-23T03:03:32.725434Z",
     "start_time": "2019-04-23T03:03:32.710678Z"
    }
   },
   "outputs": [],
   "source": [
    "mat_test = scipy.sparse.hstack([mat_test_0, df__no_dupes_test[distance_cols].values])"
   ]
  },
  {
   "cell_type": "markdown",
   "metadata": {},
   "source": [
    "### Predict on Test data"
   ]
  },
  {
   "cell_type": "code",
   "execution_count": 29,
   "metadata": {
    "ExecuteTime": {
     "end_time": "2019-04-23T03:03:32.741093Z",
     "start_time": "2019-04-23T03:03:32.729901Z"
    }
   },
   "outputs": [],
   "source": [
    "y_test_pred = lr.predict_proba(mat_test)"
   ]
  },
  {
   "cell_type": "code",
   "execution_count": 40,
   "metadata": {
    "ExecuteTime": {
     "end_time": "2019-04-23T03:07:39.580636Z",
     "start_time": "2019-04-23T03:07:39.575974Z"
    }
   },
   "outputs": [],
   "source": [
    "y_test_pred_classes = (y_test_pred[:,1] > SELECTED_THRESHOLD).astype(int)"
   ]
  },
  {
   "cell_type": "code",
   "execution_count": 34,
   "metadata": {
    "ExecuteTime": {
     "end_time": "2019-04-23T03:06:41.469948Z",
     "start_time": "2019-04-23T03:06:41.466174Z"
    }
   },
   "outputs": [],
   "source": [
    "y_test_true = df__no_dupes_test.COPD"
   ]
  },
  {
   "cell_type": "code",
   "execution_count": 41,
   "metadata": {
    "ExecuteTime": {
     "end_time": "2019-04-23T03:07:44.895302Z",
     "start_time": "2019-04-23T03:07:44.859137Z"
    }
   },
   "outputs": [
    {
     "name": "stdout",
     "output_type": "stream",
     "text": [
      "cutoff\tacc\tprec\trecall\tpos_count\tFP\tFN\tTP\tTN\n",
      "0.005\t0.987\t0.709\t1.000\t275\t\t80\t0\t195\t5868\n"
     ]
    }
   ],
   "source": [
    "print('cutoff\\tacc\\tprec\\trecall\\tpos_count\\tFP\\tFN\\tTP\\tTN')\n",
    "print('{:.3f}'.format(SELECTED_THRESHOLD), end='\\t')\n",
    "print('{:.3f}'.format(accuracy_score(y_test_true, y_test_pred_classes)), end='\\t')\n",
    "print('{:.3f}'.format(precision_score(y_test_true, y_test_pred_classes)), end='\\t')\n",
    "print('{:.3f}'.format(recall_score(y_test_true, y_test_pred_classes)), end='\\t')\n",
    "tn, fp, fn, tp = confusion_matrix(y_test_true, y_test_pred_classes).ravel()\n",
    "print(sum(y_test_pred_classes), end='\\t\\t')\n",
    "print(fp, end='\\t')\n",
    "print(fn, end='\\t')\n",
    "print(tp, end='\\t')\n",
    "print(tn)"
   ]
  },
  {
   "cell_type": "code",
   "execution_count": null,
   "metadata": {},
   "outputs": [],
   "source": []
  },
  {
   "cell_type": "code",
   "execution_count": null,
   "metadata": {},
   "outputs": [],
   "source": []
  },
  {
   "cell_type": "code",
   "execution_count": null,
   "metadata": {},
   "outputs": [],
   "source": []
  }
 ],
 "metadata": {
  "kernelspec": {
   "display_name": "Python 3",
   "language": "python",
   "name": "python3"
  },
  "language_info": {
   "codemirror_mode": {
    "name": "ipython",
    "version": 3
   },
   "file_extension": ".py",
   "mimetype": "text/x-python",
   "name": "python",
   "nbconvert_exporter": "python",
   "pygments_lexer": "ipython3",
   "version": "3.6.4"
  },
  "toc": {
   "base_numbering": 1,
   "nav_menu": {},
   "number_sections": true,
   "sideBar": true,
   "skip_h1_title": false,
   "title_cell": "Table of Contents",
   "title_sidebar": "Contents",
   "toc_cell": false,
   "toc_position": {},
   "toc_section_display": true,
   "toc_window_display": false
  }
 },
 "nbformat": 4,
 "nbformat_minor": 2
}
