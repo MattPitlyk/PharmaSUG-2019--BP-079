{
 "cells": [
  {
   "cell_type": "markdown",
   "metadata": {},
   "source": [
    "## Setup"
   ]
  },
  {
   "cell_type": "code",
   "execution_count": 1,
   "metadata": {
    "ExecuteTime": {
     "end_time": "2019-04-23T03:12:11.491743Z",
     "start_time": "2019-04-23T03:12:08.941423Z"
    }
   },
   "outputs": [],
   "source": [
    "import pandas as pd\n",
    "import numpy as np\n",
    "\n",
    "import scipy.sparse\n",
    "\n",
    "from sklearn.metrics import (confusion_matrix, precision_recall_curve, \n",
    "                            precision_score, recall_score, accuracy_score,\n",
    "                            roc_curve, roc_auc_score)\n",
    "from sklearn.feature_extraction.text import CountVectorizer, TfidfVectorizer\n",
    "from sklearn.ensemble import RandomForestClassifier\n",
    "\n",
    "from sklearn.model_selection import cross_val_predict, cross_val_score, cross_validate\n",
    "\n",
    "\n",
    "%matplotlib inline\n",
    "from matplotlib import pyplot as plt\n",
    "\n",
    "import jellyfish"
   ]
  },
  {
   "cell_type": "code",
   "execution_count": 2,
   "metadata": {
    "ExecuteTime": {
     "end_time": "2019-04-23T03:12:11.517202Z",
     "start_time": "2019-04-23T03:12:11.495732Z"
    }
   },
   "outputs": [],
   "source": [
    "def plot_precision_recall_vs_threshold(precision, recalls, thresholds):\n",
    "    plt.plot(thresholds, precisions[:-1], \"b--\", label=\"Precision\")\n",
    "    plt.plot(thresholds, recalls[:-1], \"g--\", label=\"Recall\")\n",
    "    plt.xlabel(\"Threshold\")\n",
    "    plt.legend(loc=\"center right\")\n",
    "    plt.ylim([0, 1])"
   ]
  },
  {
   "cell_type": "code",
   "execution_count": 3,
   "metadata": {
    "ExecuteTime": {
     "end_time": "2019-04-23T03:12:11.580678Z",
     "start_time": "2019-04-23T03:12:11.534144Z"
    }
   },
   "outputs": [],
   "source": [
    "def print_thresholds_stats(y_true, y_pred, min_threshold, max_threshold, num=20):\n",
    "    \"\"\"Print out accuracy, precision, recall, and confusion counts.\"\"\"\n",
    "    print('cutoff\\tacc\\tprec\\trecall\\tpos_count\\tFP\\tFN\\tTP\\tTN')\n",
    "    for cutoff in np.linspace(min_threshold, max_threshold, num=num):\n",
    "        y_train_pred = (y_pred > cutoff)\n",
    "        print('{:.3f}'.format(cutoff), end='\\t')\n",
    "        print('{:.3f}'.format(accuracy_score(y_true, y_train_pred)), end='\\t')\n",
    "        print('{:.3f}'.format(precision_score(y_true, y_train_pred)), end='\\t')\n",
    "        print('{:.3f}'.format(recall_score(y_true, y_train_pred)), end='\\t')\n",
    "        tn, fp, fn, tp = confusion_matrix(y_true, y_train_pred).ravel()\n",
    "        print(sum(y_train_pred), end='\\t\\t')\n",
    "        print(fp, end='\\t')\n",
    "        print(fn, end='\\t')\n",
    "        print(tp, end='\\t')\n",
    "        print(tn)"
   ]
  },
  {
   "cell_type": "code",
   "execution_count": 4,
   "metadata": {
    "ExecuteTime": {
     "end_time": "2019-04-23T03:12:11.599928Z",
     "start_time": "2019-04-23T03:12:11.583962Z"
    }
   },
   "outputs": [],
   "source": [
    "def plot_roc_curve(fpr, tpr, label=None):\n",
    "    plt.plot(fpr, tpr, linewidth=2, label=None)\n",
    "    plt.plot([0, 1], [0, 1], 'k--')\n",
    "    plt.axis([0, 1, 0, 1])\n",
    "    plt.xlabel('False Positive Rate')\n",
    "    plt.ylabel('True Positive Rate')"
   ]
  },
  {
   "cell_type": "markdown",
   "metadata": {},
   "source": [
    "## Training Dataset"
   ]
  },
  {
   "cell_type": "markdown",
   "metadata": {},
   "source": [
    "### Load training data"
   ]
  },
  {
   "cell_type": "code",
   "execution_count": 5,
   "metadata": {
    "ExecuteTime": {
     "end_time": "2019-04-23T03:12:12.915475Z",
     "start_time": "2019-04-23T03:12:12.593190Z"
    }
   },
   "outputs": [],
   "source": [
    "df_full = pd.read_csv('../data/real_data/copd_train.csv', sep='^', header=None, names=['Text', 'COPD'])\n",
    "\n",
    "# Lowercase data\n",
    "df_full['Text2'] = df_full.Text.str.lower()\n",
    "\n",
    "# Drop duplicates\n",
    "df__no_dupes = df_full.drop_duplicates().copy().reset_index()"
   ]
  },
  {
   "cell_type": "markdown",
   "metadata": {},
   "source": [
    "### TFIDF"
   ]
  },
  {
   "cell_type": "code",
   "execution_count": 6,
   "metadata": {
    "ExecuteTime": {
     "end_time": "2019-04-23T03:12:13.855153Z",
     "start_time": "2019-04-23T03:12:13.482981Z"
    }
   },
   "outputs": [],
   "source": [
    "# Create TF-IDF object that split data into sublists from a single word to four words (4-gram)\n",
    "tfidf = TfidfVectorizer(ngram_range=(1,4))\n",
    "\n",
    "mat_0 = tfidf.fit_transform(df__no_dupes.Text2)\n",
    "\n",
    "voc_reverse = {v:k for k,v in tfidf.vocabulary_.items()}"
   ]
  },
  {
   "cell_type": "markdown",
   "metadata": {},
   "source": [
    "### Distance features"
   ]
  },
  {
   "cell_type": "markdown",
   "metadata": {},
   "source": [
    "Engineer features that capture the edit distance from the four proxy terms."
   ]
  },
  {
   "cell_type": "code",
   "execution_count": 7,
   "metadata": {
    "ExecuteTime": {
     "end_time": "2019-04-23T03:12:15.982068Z",
     "start_time": "2019-04-23T03:12:15.723108Z"
    },
    "scrolled": true
   },
   "outputs": [],
   "source": [
    "df__no_dupes['jaro_copd'] = df__no_dupes.Text2.map(lambda s: jellyfish.jaro_winkler('copd', s))\n",
    "\n",
    "df__no_dupes['jaro_copd_full'] = df__no_dupes.Text2.map(lambda s: jellyfish.jaro_winkler('chronic obstructive pulmonary disease', s))\n",
    "\n",
    "df__no_dupes['dl_copd'] = df__no_dupes.Text2.map(lambda s: 1 - (jellyfish.damerau_levenshtein_distance('copd', s) / max(len('copd'), len(s))))\n",
    "\n",
    "df__no_dupes['dl_copd_full'] = df__no_dupes.Text2.map(lambda s: 1 - (jellyfish.damerau_levenshtein_distance('chronic obstructive pulmonary disease', s) / max(len('chronic obstructive pulmonary disease'), len(s))))"
   ]
  },
  {
   "cell_type": "markdown",
   "metadata": {},
   "source": [
    "Combine the new distance features with the TF-IDF matrix created earlier."
   ]
  },
  {
   "cell_type": "code",
   "execution_count": 8,
   "metadata": {
    "ExecuteTime": {
     "end_time": "2019-04-23T03:12:16.651293Z",
     "start_time": "2019-04-23T03:12:16.629965Z"
    }
   },
   "outputs": [],
   "source": [
    "distance_cols = ['jaro_copd', 'jaro_copd_full', 'dl_copd', 'dl_copd_full']\n",
    "\n",
    "mat = scipy.sparse.hstack([mat_0, df__no_dupes[distance_cols].values])"
   ]
  },
  {
   "cell_type": "markdown",
   "metadata": {},
   "source": [
    "### Random Forest Classifier"
   ]
  },
  {
   "cell_type": "markdown",
   "metadata": {},
   "source": [
    "#### Look at cross validated metrics"
   ]
  },
  {
   "cell_type": "code",
   "execution_count": 9,
   "metadata": {
    "ExecuteTime": {
     "end_time": "2019-04-23T03:13:13.158665Z",
     "start_time": "2019-04-23T03:12:55.575889Z"
    }
   },
   "outputs": [
    {
     "data": {
      "text/plain": [
       "{'fit_time': array([5.43331695, 4.6319139 , 5.09511709]),\n",
       " 'score_time': array([0.29795623, 0.24538994, 0.27148223]),\n",
       " 'test_accuracy': array([0.99718574, 0.99324451, 0.99624695]),\n",
       " 'test_precision': array([0.98089172, 0.97101449, 0.97402597]),\n",
       " 'test_recall': array([0.92771084, 0.80722892, 0.90361446]),\n",
       " 'train_accuracy': array([0.99981235, 0.9994371 , 0.99981237]),\n",
       " 'train_precision': array([1., 1., 1.]),\n",
       " 'train_recall': array([0.9939759 , 0.98192771, 0.9939759 ])}"
      ]
     },
     "execution_count": 9,
     "metadata": {},
     "output_type": "execute_result"
    }
   ],
   "source": [
    "rfc = RandomForestClassifier()\n",
    "\n",
    "r = cross_validate(rfc, \n",
    "               X=mat, \n",
    "               y=df__no_dupes.COPD, \n",
    "               scoring=['accuracy', 'precision', 'recall'], \n",
    "               return_train_score=True)\n",
    "r"
   ]
  },
  {
   "cell_type": "code",
   "execution_count": 10,
   "metadata": {
    "ExecuteTime": {
     "end_time": "2019-04-23T03:13:13.179894Z",
     "start_time": "2019-04-23T03:13:13.163749Z"
    }
   },
   "outputs": [
    {
     "data": {
      "text/plain": [
       "test_accuracy     0.995559\n",
       "test_precision    0.975311\n",
       "test_recall       0.879518\n",
       "dtype: float64"
      ]
     },
     "execution_count": 10,
     "metadata": {},
     "output_type": "execute_result"
    }
   ],
   "source": [
    "pd.DataFrame(r)[['test_accuracy', 'test_precision', 'test_recall']].mean()"
   ]
  },
  {
   "cell_type": "markdown",
   "metadata": {},
   "source": [
    "#### Get cross validated predctions  and predicted probabilites"
   ]
  },
  {
   "cell_type": "markdown",
   "metadata": {},
   "source": [
    "Note: Random Forests do not have decision functions"
   ]
  },
  {
   "cell_type": "code",
   "execution_count": 12,
   "metadata": {
    "ExecuteTime": {
     "end_time": "2019-04-23T03:14:48.263140Z",
     "start_time": "2019-04-23T03:14:10.770911Z"
    }
   },
   "outputs": [],
   "source": [
    "labels = cross_val_predict(rfc, mat, df__no_dupes.COPD)\n",
    "proba = cross_val_predict(rfc, mat, df__no_dupes.COPD, method='predict_proba')"
   ]
  },
  {
   "cell_type": "code",
   "execution_count": 37,
   "metadata": {
    "ExecuteTime": {
     "end_time": "2019-04-23T04:20:21.478307Z",
     "start_time": "2019-04-23T04:20:21.437821Z"
    },
    "scrolled": true
   },
   "outputs": [],
   "source": [
    "df__no_dupes['rfc'] = labels\n",
    "df__no_dupes['predict_proba__1'] = proba[:,1]"
   ]
  },
  {
   "cell_type": "code",
   "execution_count": 38,
   "metadata": {
    "ExecuteTime": {
     "end_time": "2019-04-23T04:20:22.219325Z",
     "start_time": "2019-04-23T04:20:22.148680Z"
    }
   },
   "outputs": [
    {
     "name": "stdout",
     "output_type": "stream",
     "text": [
      "cutoff\tacc\tprec\trecall\tpos_count\tFP\tFN\tTP\tTN\n",
      "0.500\t0.996\t0.984\t0.876\t443\t\t7\t62\t436\t15483\n"
     ]
    }
   ],
   "source": [
    "y_true = df__no_dupes.COPD\n",
    "y_pred_classes = labels\n",
    "\n",
    "print('cutoff\\tacc\\tprec\\trecall\\tpos_count\\tFP\\tFN\\tTP\\tTN')\n",
    "print('{:.3f}'.format(.5), end='\\t')\n",
    "print('{:.3f}'.format(accuracy_score(y_true, y_pred_classes)), end='\\t')\n",
    "print('{:.3f}'.format(precision_score(y_true, y_pred_classes)), end='\\t')\n",
    "print('{:.3f}'.format(recall_score(y_true, y_pred_classes)), end='\\t')\n",
    "tn, fp, fn, tp = confusion_matrix(y_true, y_pred_classes).ravel()\n",
    "print(sum(y_pred_classes), end='\\t\\t')\n",
    "print(fp, end='\\t')\n",
    "print(fn, end='\\t')\n",
    "print(tp, end='\\t')\n",
    "print(tn)"
   ]
  },
  {
   "cell_type": "markdown",
   "metadata": {},
   "source": [
    "#### Precision Recall chart"
   ]
  },
  {
   "cell_type": "code",
   "execution_count": 15,
   "metadata": {
    "ExecuteTime": {
     "end_time": "2019-04-23T03:23:14.153909Z",
     "start_time": "2019-04-23T03:23:13.659599Z"
    }
   },
   "outputs": [
    {
     "data": {
      "image/png": "[encoded data removed]",
      "text/plain": [
       "<matplotlib.figure.Figure at 0x117a1b160>"
      ]
     },
     "metadata": {},
     "output_type": "display_data"
    }
   ],
   "source": [
    "precisions, recalls, thresholds = precision_recall_curve(y_true=df__no_dupes.COPD, \n",
    "                                                         probas_pred=df__no_dupes.predict_proba__1) # decision_function or predict_probas\n",
    "\n",
    "plot_precision_recall_vs_threshold(precisions, recalls, thresholds)"
   ]
  },
  {
   "cell_type": "markdown",
   "metadata": {},
   "source": [
    "View metrics for various threshold values"
   ]
  },
  {
   "cell_type": "code",
   "execution_count": 19,
   "metadata": {
    "ExecuteTime": {
     "end_time": "2019-04-23T03:24:59.307724Z",
     "start_time": "2019-04-23T03:24:57.873377Z"
    }
   },
   "outputs": [
    {
     "name": "stdout",
     "output_type": "stream",
     "text": [
      "cutoff\tacc\tprec\trecall\tpos_count\tFP\tFN\tTP\tTN\n",
      "0.000\t0.978\t0.583\t0.978\t835\t\t348\t11\t487\t15142\n",
      "0.053\t0.978\t0.583\t0.978\t835\t\t348\t11\t487\t15142\n",
      "0.105\t0.992\t0.819\t0.974\t592\t\t107\t13\t485\t15383\n",
      "0.158\t0.992\t0.819\t0.974\t592\t\t107\t13\t485\t15383\n",
      "0.211\t0.996\t0.910\t0.960\t525\t\t47\t20\t478\t15443\n",
      "0.263\t0.996\t0.910\t0.960\t525\t\t47\t20\t478\t15443\n",
      "0.316\t0.996\t0.940\t0.948\t502\t\t30\t26\t472\t15460\n",
      "0.368\t0.996\t0.940\t0.948\t502\t\t30\t26\t472\t15460\n",
      "0.421\t0.997\t0.972\t0.920\t471\t\t13\t40\t458\t15477\n",
      "0.474\t0.997\t0.972\t0.920\t471\t\t13\t40\t458\t15477\n",
      "0.526\t0.995\t0.984\t0.869\t440\t\t7\t65\t433\t15483\n",
      "0.579\t0.995\t0.984\t0.869\t440\t\t7\t65\t433\t15483\n",
      "0.632\t0.992\t0.987\t0.759\t383\t\t5\t120\t378\t15485\n",
      "0.684\t0.992\t0.987\t0.759\t383\t\t5\t120\t378\t15485\n",
      "0.737\t0.990\t0.988\t0.675\t340\t\t4\t162\t336\t15486\n",
      "0.789\t0.990\t0.988\t0.675\t340\t\t4\t162\t336\t15486\n",
      "0.842\t0.984\t0.988\t0.506\t255\t\t3\t246\t252\t15487\n",
      "0.895\t0.984\t0.988\t0.506\t255\t\t3\t246\t252\t15487\n",
      "0.947\t0.977\t0.992\t0.253\t127\t\t1\t372\t126\t15489\n",
      "1.000\t0.969\t0.000\t0.000\t0\t\t0\t498\t0\t15490\n"
     ]
    },
    {
     "name": "stderr",
     "output_type": "stream",
     "text": [
      "/Users/mpitlyk/miniconda3/envs/DS3/lib/python3.6/site-packages/sklearn/metrics/classification.py:1135: UndefinedMetricWarning: Precision is ill-defined and being set to 0.0 due to no predicted samples.\n",
      "  'precision', 'predicted', average, warn_for)\n"
     ]
    }
   ],
   "source": [
    "print_thresholds_stats(df__no_dupes.COPD, df__no_dupes['predict_proba__1'], 0, 1)"
   ]
  },
  {
   "cell_type": "code",
   "execution_count": 20,
   "metadata": {
    "ExecuteTime": {
     "end_time": "2019-04-23T03:25:04.795621Z",
     "start_time": "2019-04-23T03:25:04.791487Z"
    }
   },
   "outputs": [],
   "source": [
    "SELECTED_THRESHOLD = .26"
   ]
  },
  {
   "cell_type": "code",
   "execution_count": 39,
   "metadata": {
    "ExecuteTime": {
     "end_time": "2019-04-23T04:21:58.440510Z",
     "start_time": "2019-04-23T04:21:58.354578Z"
    }
   },
   "outputs": [
    {
     "name": "stdout",
     "output_type": "stream",
     "text": [
      "cutoff\tacc\tprec\trecall\tpos_count\tFP\tFN\tTP\tTN\n",
      "0.500\t0.996\t0.910\t0.960\t525\t\t47\t20\t478\t15443\n"
     ]
    }
   ],
   "source": [
    "y_true = df__no_dupes.COPD\n",
    "y_pred_classes = (df__no_dupes.predict_proba__1 > SELECTED_THRESHOLD).astype(int)\n",
    "\n",
    "print('cutoff\\tacc\\tprec\\trecall\\tpos_count\\tFP\\tFN\\tTP\\tTN')\n",
    "print('{:.3f}'.format(.5), end='\\t')\n",
    "print('{:.3f}'.format(accuracy_score(y_true, y_pred_classes)), end='\\t')\n",
    "print('{:.3f}'.format(precision_score(y_true, y_pred_classes)), end='\\t')\n",
    "print('{:.3f}'.format(recall_score(y_true, y_pred_classes)), end='\\t')\n",
    "tn, fp, fn, tp = confusion_matrix(y_true, y_pred_classes).ravel()\n",
    "print(sum(y_pred_classes), end='\\t\\t')\n",
    "print(fp, end='\\t')\n",
    "print(fn, end='\\t')\n",
    "print(tp, end='\\t')\n",
    "print(tn)"
   ]
  },
  {
   "cell_type": "markdown",
   "metadata": {},
   "source": [
    "#### ROC curve"
   ]
  },
  {
   "cell_type": "code",
   "execution_count": 22,
   "metadata": {
    "ExecuteTime": {
     "end_time": "2019-04-23T03:25:11.284507Z",
     "start_time": "2019-04-23T03:25:11.276452Z"
    }
   },
   "outputs": [],
   "source": [
    "fpr, tpr, thresholds = roc_curve(y_true=df__no_dupes.COPD, y_score=df__no_dupes.predict_proba__1)"
   ]
  },
  {
   "cell_type": "code",
   "execution_count": 23,
   "metadata": {
    "ExecuteTime": {
     "end_time": "2019-04-23T03:25:12.719996Z",
     "start_time": "2019-04-23T03:25:12.547238Z"
    },
    "scrolled": true
   },
   "outputs": [
    {
     "data": {
      "image/png": "[encoded data removed]",
      "text/plain": [
       "<matplotlib.figure.Figure at 0x1178ecf60>"
      ]
     },
     "metadata": {},
     "output_type": "display_data"
    }
   ],
   "source": [
    "plot_roc_curve(fpr, tpr)\n",
    "plt.show()"
   ]
  },
  {
   "cell_type": "code",
   "execution_count": 25,
   "metadata": {
    "ExecuteTime": {
     "end_time": "2019-04-23T03:25:16.974262Z",
     "start_time": "2019-04-23T03:25:16.962683Z"
    }
   },
   "outputs": [
    {
     "data": {
      "text/plain": [
       "0.9883312462244069"
      ]
     },
     "execution_count": 25,
     "metadata": {},
     "output_type": "execute_result"
    }
   ],
   "source": [
    "roc_auc_score(y_true=df__no_dupes.COPD, y_score=df__no_dupes.predict_proba__1)"
   ]
  },
  {
   "cell_type": "code",
   "execution_count": null,
   "metadata": {},
   "outputs": [],
   "source": []
  },
  {
   "cell_type": "markdown",
   "metadata": {},
   "source": [
    "#### Train final model on all training data"
   ]
  },
  {
   "cell_type": "markdown",
   "metadata": {},
   "source": [
    "This is the trained classifier that will be used on the test dataset."
   ]
  },
  {
   "cell_type": "code",
   "execution_count": 26,
   "metadata": {
    "ExecuteTime": {
     "end_time": "2019-04-23T03:25:47.358610Z",
     "start_time": "2019-04-23T03:25:47.353663Z"
    }
   },
   "outputs": [],
   "source": [
    "rfc = RandomForestClassifier()"
   ]
  },
  {
   "cell_type": "code",
   "execution_count": 28,
   "metadata": {
    "ExecuteTime": {
     "end_time": "2019-04-23T03:25:53.419981Z",
     "start_time": "2019-04-23T03:25:52.724446Z"
    }
   },
   "outputs": [
    {
     "data": {
      "text/plain": [
       "RandomForestClassifier(bootstrap=True, class_weight=None, criterion='gini',\n",
       "            max_depth=None, max_features='auto', max_leaf_nodes=None,\n",
       "            min_impurity_decrease=0.0, min_impurity_split=None,\n",
       "            min_samples_leaf=1, min_samples_split=2,\n",
       "            min_weight_fraction_leaf=0.0, n_estimators=10, n_jobs=1,\n",
       "            oob_score=False, random_state=None, verbose=0,\n",
       "            warm_start=False)"
      ]
     },
     "execution_count": 28,
     "metadata": {},
     "output_type": "execute_result"
    }
   ],
   "source": [
    "rfc.fit(X=mat, y=df__no_dupes.COPD)"
   ]
  },
  {
   "cell_type": "markdown",
   "metadata": {},
   "source": [
    "## Test Dataset"
   ]
  },
  {
   "cell_type": "code",
   "execution_count": 29,
   "metadata": {
    "ExecuteTime": {
     "end_time": "2019-04-23T03:25:58.396998Z",
     "start_time": "2019-04-23T03:25:58.315411Z"
    }
   },
   "outputs": [],
   "source": [
    "df_full_test = pd.read_csv('../data/real_data/copd_test.csv', sep='^', header=None, names=['Text', 'COPD'])\n",
    "\n",
    "# Lowercase data\n",
    "df_full_test['Text2'] = df_full_test.Text.str.lower()\n",
    "\n",
    "# Drop duplicates\n",
    "df__no_dupes_test = df_full_test.drop_duplicates().copy().reset_index()"
   ]
  },
  {
   "cell_type": "markdown",
   "metadata": {},
   "source": [
    "### TFIDF"
   ]
  },
  {
   "cell_type": "code",
   "execution_count": 30,
   "metadata": {
    "ExecuteTime": {
     "end_time": "2019-04-23T03:25:59.291878Z",
     "start_time": "2019-04-23T03:25:59.184785Z"
    }
   },
   "outputs": [],
   "source": [
    "# Use the same TF-IDF object on the test data that was trained on the training data\n",
    "mat_test_0 = tfidf.transform(df__no_dupes_test.Text2)"
   ]
  },
  {
   "cell_type": "markdown",
   "metadata": {},
   "source": [
    "### Distance features"
   ]
  },
  {
   "cell_type": "markdown",
   "metadata": {},
   "source": [
    "Engineer features that capture the edit distance from the four proxy terms."
   ]
  },
  {
   "cell_type": "code",
   "execution_count": 31,
   "metadata": {
    "ExecuteTime": {
     "end_time": "2019-04-23T03:26:00.521614Z",
     "start_time": "2019-04-23T03:26:00.402119Z"
    },
    "scrolled": true
   },
   "outputs": [],
   "source": [
    "df__no_dupes_test['jaro_copd'] = df__no_dupes_test.Text2.map(lambda s: jellyfish.jaro_winkler('copd', s))\n",
    "\n",
    "df__no_dupes_test['jaro_copd_full'] = df__no_dupes_test.Text2.map(lambda s: jellyfish.jaro_winkler('chronic obstructive pulmonary disease', s))\n",
    "\n",
    "df__no_dupes_test['dl_copd'] = df__no_dupes_test.Text2.map(lambda s: 1 - (jellyfish.damerau_levenshtein_distance('copd', s) / max(len('copd'), len(s))))\n",
    "\n",
    "df__no_dupes_test['dl_copd_full'] = df__no_dupes_test.Text2.map(lambda s: 1 - (jellyfish.damerau_levenshtein_distance('chronic obstructive pulmonary disease', s) / max(len('chronic obstructive pulmonary disease'), len(s))))"
   ]
  },
  {
   "cell_type": "markdown",
   "metadata": {},
   "source": [
    "Combine the new distance features with the TF-IDF matrix created earlier."
   ]
  },
  {
   "cell_type": "code",
   "execution_count": 32,
   "metadata": {
    "ExecuteTime": {
     "end_time": "2019-04-23T03:26:03.420354Z",
     "start_time": "2019-04-23T03:26:03.407040Z"
    }
   },
   "outputs": [],
   "source": [
    "mat_test = scipy.sparse.hstack([mat_test_0, df__no_dupes_test[distance_cols].values])"
   ]
  },
  {
   "cell_type": "markdown",
   "metadata": {},
   "source": [
    "### Predict on Test data"
   ]
  },
  {
   "cell_type": "code",
   "execution_count": 33,
   "metadata": {
    "ExecuteTime": {
     "end_time": "2019-04-23T03:26:19.888776Z",
     "start_time": "2019-04-23T03:26:19.778593Z"
    }
   },
   "outputs": [],
   "source": [
    "y_test_pred = rfc.predict_proba(mat_test)"
   ]
  },
  {
   "cell_type": "code",
   "execution_count": 34,
   "metadata": {
    "ExecuteTime": {
     "end_time": "2019-04-23T03:26:22.190551Z",
     "start_time": "2019-04-23T03:26:22.185720Z"
    }
   },
   "outputs": [],
   "source": [
    "y_test_pred_classes = (y_test_pred[:,1] > SELECTED_THRESHOLD).astype(int)"
   ]
  },
  {
   "cell_type": "code",
   "execution_count": 35,
   "metadata": {
    "ExecuteTime": {
     "end_time": "2019-04-23T03:26:22.997590Z",
     "start_time": "2019-04-23T03:26:22.990040Z"
    }
   },
   "outputs": [],
   "source": [
    "y_test_true = df__no_dupes_test.COPD"
   ]
  },
  {
   "cell_type": "code",
   "execution_count": 36,
   "metadata": {
    "ExecuteTime": {
     "end_time": "2019-04-23T03:26:23.730833Z",
     "start_time": "2019-04-23T03:26:23.696396Z"
    }
   },
   "outputs": [
    {
     "name": "stdout",
     "output_type": "stream",
     "text": [
      "cutoff\tacc\tprec\trecall\tpos_count\tFP\tFN\tTP\tTN\n",
      "0.260\t0.998\t0.937\t0.995\t207\t\t13\t1\t194\t5935\n"
     ]
    }
   ],
   "source": [
    "print('cutoff\\tacc\\tprec\\trecall\\tpos_count\\tFP\\tFN\\tTP\\tTN')\n",
    "print('{:.3f}'.format(SELECTED_THRESHOLD), end='\\t')\n",
    "print('{:.3f}'.format(accuracy_score(y_test_true, y_test_pred_classes)), end='\\t')\n",
    "print('{:.3f}'.format(precision_score(y_test_true, y_test_pred_classes)), end='\\t')\n",
    "print('{:.3f}'.format(recall_score(y_test_true, y_test_pred_classes)), end='\\t')\n",
    "tn, fp, fn, tp = confusion_matrix(y_test_true, y_test_pred_classes).ravel()\n",
    "print(sum(y_test_pred_classes), end='\\t\\t')\n",
    "print(fp, end='\\t')\n",
    "print(fn, end='\\t')\n",
    "print(tp, end='\\t')\n",
    "print(tn)"
   ]
  },
  {
   "cell_type": "code",
   "execution_count": null,
   "metadata": {},
   "outputs": [],
   "source": []
  },
  {
   "cell_type": "code",
   "execution_count": null,
   "metadata": {},
   "outputs": [],
   "source": []
  },
  {
   "cell_type": "code",
   "execution_count": null,
   "metadata": {},
   "outputs": [],
   "source": []
  }
 ],
 "metadata": {
  "kernelspec": {
   "display_name": "Python 3",
   "language": "python",
   "name": "python3"
  },
  "language_info": {
   "codemirror_mode": {
    "name": "ipython",
    "version": 3
   },
   "file_extension": ".py",
   "mimetype": "text/x-python",
   "name": "python",
   "nbconvert_exporter": "python",
   "pygments_lexer": "ipython3",
   "version": "3.6.4"
  },
  "toc": {
   "base_numbering": 1,
   "nav_menu": {},
   "number_sections": true,
   "sideBar": true,
   "skip_h1_title": false,
   "title_cell": "Table of Contents",
   "title_sidebar": "Contents",
   "toc_cell": false,
   "toc_position": {},
   "toc_section_display": true,
   "toc_window_display": false
  }
 },
 "nbformat": 4,
 "nbformat_minor": 2
}
